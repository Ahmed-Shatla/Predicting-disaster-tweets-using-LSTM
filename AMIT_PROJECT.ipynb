{
  "nbformat": 4,
  "nbformat_minor": 0,
  "metadata": {
    "colab": {
      "name": "AMIT_PROJECT.ipynb",
      "provenance": [],
      "authorship_tag": "ABX9TyOQjfHlnjZlbSv9C6qqD3yk",
      "include_colab_link": true
    },
    "kernelspec": {
      "name": "python3",
      "display_name": "Python 3"
    },
    "language_info": {
      "name": "python"
    },
    "accelerator": "TPU"
  },
  "cells": [
    {
      "cell_type": "markdown",
      "metadata": {
        "id": "view-in-github",
        "colab_type": "text"
      },
      "source": [
        "<a href=\"https://colab.research.google.com/github/Ahmed-Shatla/Predicting-disaster-tweets-using-LSTM/blob/main/AMIT_PROJECT.ipynb\" target=\"_parent\"><img src=\"https://colab.research.google.com/assets/colab-badge.svg\" alt=\"Open In Colab\"/></a>"
      ]
    },
    {
      "cell_type": "markdown",
      "source": [
        "#1)Load the dataset"
      ],
      "metadata": {
        "id": "PXp9v2H4Rwpo"
      }
    },
    {
      "cell_type": "code",
      "source": [
        "import pandas as pd\n",
        "import numpy as np\n",
        "import matplotlib.pyplot as plt\n",
        "import seaborn as sns\n",
        "import nltk\n"
      ],
      "metadata": {
        "id": "I7KKSBcRSFIx"
      },
      "execution_count": 1,
      "outputs": []
    },
    {
      "cell_type": "code",
      "execution_count": 2,
      "metadata": {
        "id": "0aT4X-OVRrNz"
      },
      "outputs": [],
      "source": [
        "train_data = pd.read_csv(\"train.csv\")\n"
      ]
    },
    {
      "cell_type": "markdown",
      "source": [
        "#2)Check head and info of the data"
      ],
      "metadata": {
        "id": "naiWIRMRSy0o"
      }
    },
    {
      "cell_type": "code",
      "source": [
        "train_data.head()"
      ],
      "metadata": {
        "colab": {
          "base_uri": "https://localhost:8080/",
          "height": 206
        },
        "id": "I2WtZT5xSxMu",
        "outputId": "ad8ca1f9-8069-4c20-9053-a7ed5fe86e42"
      },
      "execution_count": 3,
      "outputs": [
        {
          "output_type": "execute_result",
          "data": {
            "text/plain": [
              "   id keyword location                                               text  \\\n",
              "0   1     NaN      NaN  Our Deeds are the Reason of this #earthquake M...   \n",
              "1   4     NaN      NaN             Forest fire near La Ronge Sask. Canada   \n",
              "2   5     NaN      NaN  All residents asked to 'shelter in place' are ...   \n",
              "3   6     NaN      NaN  13,000 people receive #wildfires evacuation or...   \n",
              "4   7     NaN      NaN  Just got sent this photo from Ruby #Alaska as ...   \n",
              "\n",
              "   target  \n",
              "0       1  \n",
              "1       1  \n",
              "2       1  \n",
              "3       1  \n",
              "4       1  "
            ],
            "text/html": [
              "\n",
              "  <div id=\"df-56e5acb6-a835-451b-a080-17ad76f17148\">\n",
              "    <div class=\"colab-df-container\">\n",
              "      <div>\n",
              "<style scoped>\n",
              "    .dataframe tbody tr th:only-of-type {\n",
              "        vertical-align: middle;\n",
              "    }\n",
              "\n",
              "    .dataframe tbody tr th {\n",
              "        vertical-align: top;\n",
              "    }\n",
              "\n",
              "    .dataframe thead th {\n",
              "        text-align: right;\n",
              "    }\n",
              "</style>\n",
              "<table border=\"1\" class=\"dataframe\">\n",
              "  <thead>\n",
              "    <tr style=\"text-align: right;\">\n",
              "      <th></th>\n",
              "      <th>id</th>\n",
              "      <th>keyword</th>\n",
              "      <th>location</th>\n",
              "      <th>text</th>\n",
              "      <th>target</th>\n",
              "    </tr>\n",
              "  </thead>\n",
              "  <tbody>\n",
              "    <tr>\n",
              "      <th>0</th>\n",
              "      <td>1</td>\n",
              "      <td>NaN</td>\n",
              "      <td>NaN</td>\n",
              "      <td>Our Deeds are the Reason of this #earthquake M...</td>\n",
              "      <td>1</td>\n",
              "    </tr>\n",
              "    <tr>\n",
              "      <th>1</th>\n",
              "      <td>4</td>\n",
              "      <td>NaN</td>\n",
              "      <td>NaN</td>\n",
              "      <td>Forest fire near La Ronge Sask. Canada</td>\n",
              "      <td>1</td>\n",
              "    </tr>\n",
              "    <tr>\n",
              "      <th>2</th>\n",
              "      <td>5</td>\n",
              "      <td>NaN</td>\n",
              "      <td>NaN</td>\n",
              "      <td>All residents asked to 'shelter in place' are ...</td>\n",
              "      <td>1</td>\n",
              "    </tr>\n",
              "    <tr>\n",
              "      <th>3</th>\n",
              "      <td>6</td>\n",
              "      <td>NaN</td>\n",
              "      <td>NaN</td>\n",
              "      <td>13,000 people receive #wildfires evacuation or...</td>\n",
              "      <td>1</td>\n",
              "    </tr>\n",
              "    <tr>\n",
              "      <th>4</th>\n",
              "      <td>7</td>\n",
              "      <td>NaN</td>\n",
              "      <td>NaN</td>\n",
              "      <td>Just got sent this photo from Ruby #Alaska as ...</td>\n",
              "      <td>1</td>\n",
              "    </tr>\n",
              "  </tbody>\n",
              "</table>\n",
              "</div>\n",
              "      <button class=\"colab-df-convert\" onclick=\"convertToInteractive('df-56e5acb6-a835-451b-a080-17ad76f17148')\"\n",
              "              title=\"Convert this dataframe to an interactive table.\"\n",
              "              style=\"display:none;\">\n",
              "        \n",
              "  <svg xmlns=\"http://www.w3.org/2000/svg\" height=\"24px\"viewBox=\"0 0 24 24\"\n",
              "       width=\"24px\">\n",
              "    <path d=\"M0 0h24v24H0V0z\" fill=\"none\"/>\n",
              "    <path d=\"M18.56 5.44l.94 2.06.94-2.06 2.06-.94-2.06-.94-.94-2.06-.94 2.06-2.06.94zm-11 1L8.5 8.5l.94-2.06 2.06-.94-2.06-.94L8.5 2.5l-.94 2.06-2.06.94zm10 10l.94 2.06.94-2.06 2.06-.94-2.06-.94-.94-2.06-.94 2.06-2.06.94z\"/><path d=\"M17.41 7.96l-1.37-1.37c-.4-.4-.92-.59-1.43-.59-.52 0-1.04.2-1.43.59L10.3 9.45l-7.72 7.72c-.78.78-.78 2.05 0 2.83L4 21.41c.39.39.9.59 1.41.59.51 0 1.02-.2 1.41-.59l7.78-7.78 2.81-2.81c.8-.78.8-2.07 0-2.86zM5.41 20L4 18.59l7.72-7.72 1.47 1.35L5.41 20z\"/>\n",
              "  </svg>\n",
              "      </button>\n",
              "      \n",
              "  <style>\n",
              "    .colab-df-container {\n",
              "      display:flex;\n",
              "      flex-wrap:wrap;\n",
              "      gap: 12px;\n",
              "    }\n",
              "\n",
              "    .colab-df-convert {\n",
              "      background-color: #E8F0FE;\n",
              "      border: none;\n",
              "      border-radius: 50%;\n",
              "      cursor: pointer;\n",
              "      display: none;\n",
              "      fill: #1967D2;\n",
              "      height: 32px;\n",
              "      padding: 0 0 0 0;\n",
              "      width: 32px;\n",
              "    }\n",
              "\n",
              "    .colab-df-convert:hover {\n",
              "      background-color: #E2EBFA;\n",
              "      box-shadow: 0px 1px 2px rgba(60, 64, 67, 0.3), 0px 1px 3px 1px rgba(60, 64, 67, 0.15);\n",
              "      fill: #174EA6;\n",
              "    }\n",
              "\n",
              "    [theme=dark] .colab-df-convert {\n",
              "      background-color: #3B4455;\n",
              "      fill: #D2E3FC;\n",
              "    }\n",
              "\n",
              "    [theme=dark] .colab-df-convert:hover {\n",
              "      background-color: #434B5C;\n",
              "      box-shadow: 0px 1px 3px 1px rgba(0, 0, 0, 0.15);\n",
              "      filter: drop-shadow(0px 1px 2px rgba(0, 0, 0, 0.3));\n",
              "      fill: #FFFFFF;\n",
              "    }\n",
              "  </style>\n",
              "\n",
              "      <script>\n",
              "        const buttonEl =\n",
              "          document.querySelector('#df-56e5acb6-a835-451b-a080-17ad76f17148 button.colab-df-convert');\n",
              "        buttonEl.style.display =\n",
              "          google.colab.kernel.accessAllowed ? 'block' : 'none';\n",
              "\n",
              "        async function convertToInteractive(key) {\n",
              "          const element = document.querySelector('#df-56e5acb6-a835-451b-a080-17ad76f17148');\n",
              "          const dataTable =\n",
              "            await google.colab.kernel.invokeFunction('convertToInteractive',\n",
              "                                                     [key], {});\n",
              "          if (!dataTable) return;\n",
              "\n",
              "          const docLinkHtml = 'Like what you see? Visit the ' +\n",
              "            '<a target=\"_blank\" href=https://colab.research.google.com/notebooks/data_table.ipynb>data table notebook</a>'\n",
              "            + ' to learn more about interactive tables.';\n",
              "          element.innerHTML = '';\n",
              "          dataTable['output_type'] = 'display_data';\n",
              "          await google.colab.output.renderOutput(dataTable, element);\n",
              "          const docLink = document.createElement('div');\n",
              "          docLink.innerHTML = docLinkHtml;\n",
              "          element.appendChild(docLink);\n",
              "        }\n",
              "      </script>\n",
              "    </div>\n",
              "  </div>\n",
              "  "
            ]
          },
          "metadata": {},
          "execution_count": 3
        }
      ]
    },
    {
      "cell_type": "markdown",
      "source": [
        "#3) Is there a missing data [how many and the percentage if there]?"
      ],
      "metadata": {
        "id": "RAKPvaOrS9BY"
      }
    },
    {
      "cell_type": "code",
      "source": [
        "train_data.shape"
      ],
      "metadata": {
        "colab": {
          "base_uri": "https://localhost:8080/"
        },
        "id": "u4eUWeQ2SsKW",
        "outputId": "2441f987-8a41-4d97-d25a-6308099fca74"
      },
      "execution_count": 4,
      "outputs": [
        {
          "output_type": "execute_result",
          "data": {
            "text/plain": [
              "(7613, 5)"
            ]
          },
          "metadata": {},
          "execution_count": 4
        }
      ]
    },
    {
      "cell_type": "code",
      "source": [
        "total_missing_values = train_data.isna().sum().sum()\n",
        "##number of missing values\n",
        "total_missing_values"
      ],
      "metadata": {
        "colab": {
          "base_uri": "https://localhost:8080/"
        },
        "id": "9G19-bWrSqr6",
        "outputId": "3a62d280-743d-4003-e67a-85fb674cdee2"
      },
      "execution_count": 5,
      "outputs": [
        {
          "output_type": "execute_result",
          "data": {
            "text/plain": [
              "2594"
            ]
          },
          "metadata": {},
          "execution_count": 5
        }
      ]
    },
    {
      "cell_type": "code",
      "source": [
        "percentage_of_missing_valeus = (total_missing_values/train_data.shape[0])*100\n",
        "##percentage of nulls\n",
        "percentage_of_missing_valeus"
      ],
      "metadata": {
        "colab": {
          "base_uri": "https://localhost:8080/"
        },
        "id": "oWTSSdQ3TQHL",
        "outputId": "b17aa516-112f-4d72-91bd-232d183163fb"
      },
      "execution_count": 6,
      "outputs": [
        {
          "output_type": "execute_result",
          "data": {
            "text/plain": [
              "34.073295678444765"
            ]
          },
          "metadata": {},
          "execution_count": 6
        }
      ]
    },
    {
      "cell_type": "markdown",
      "source": [
        "#4) How many data in each class?"
      ],
      "metadata": {
        "id": "zYfvVqSAUJq_"
      }
    },
    {
      "cell_type": "code",
      "source": [
        "sns.countplot(train_data['target'])"
      ],
      "metadata": {
        "colab": {
          "base_uri": "https://localhost:8080/",
          "height": 354
        },
        "id": "IPppHgnUToA3",
        "outputId": "7e79dbac-2466-45b0-aeec-2530ec43f0b4"
      },
      "execution_count": 7,
      "outputs": [
        {
          "output_type": "stream",
          "name": "stderr",
          "text": [
            "/usr/local/lib/python3.7/dist-packages/seaborn/_decorators.py:43: FutureWarning: Pass the following variable as a keyword arg: x. From version 0.12, the only valid positional argument will be `data`, and passing other arguments without an explicit keyword will result in an error or misinterpretation.\n",
            "  FutureWarning\n"
          ]
        },
        {
          "output_type": "execute_result",
          "data": {
            "text/plain": [
              "<matplotlib.axes._subplots.AxesSubplot at 0x7f1e99bcf410>"
            ]
          },
          "metadata": {},
          "execution_count": 7
        },
        {
          "output_type": "display_data",
          "data": {
            "text/plain": [
              "<Figure size 432x288 with 1 Axes>"
            ],
            "image/png": "[encoded data removed]"
          },
          "metadata": {
            "needs_background": "light"
          }
        }
      ]
    },
    {
      "cell_type": "markdown",
      "source": [
        "#5) Get the top 15 locations of the data (Disaster & Not Disaster)"
      ],
      "metadata": {
        "id": "RLnZTIgNWRh3"
      }
    },
    {
      "cell_type": "code",
      "source": [
        "train_data['location'].value_counts().head(15)"
      ],
      "metadata": {
        "colab": {
          "base_uri": "https://localhost:8080/"
        },
        "id": "BGC_3-VsWUXs",
        "outputId": "3d311040-66a4-47b5-cfe1-ba05376e7607"
      },
      "execution_count": 8,
      "outputs": [
        {
          "output_type": "execute_result",
          "data": {
            "text/plain": [
              "USA                104\n",
              "New York            71\n",
              "United States       50\n",
              "London              45\n",
              "Canada              29\n",
              "Nigeria             28\n",
              "UK                  27\n",
              "Los Angeles, CA     26\n",
              "India               24\n",
              "Mumbai              22\n",
              "Washington, DC      21\n",
              "Kenya               20\n",
              "Worldwide           19\n",
              "Australia           18\n",
              "Chicago, IL         18\n",
              "Name: location, dtype: int64"
            ]
          },
          "metadata": {},
          "execution_count": 8
        }
      ]
    },
    {
      "cell_type": "code",
      "source": [
        "disaster_locations = train_data[train_data['target']==1]['location'].value_counts()[:15]\n",
        "disaster_locations"
      ],
      "metadata": {
        "colab": {
          "base_uri": "https://localhost:8080/"
        },
        "id": "4N4mjm1-UY4Z",
        "outputId": "b4048877-47ab-471c-ea21-eab6d0930748"
      },
      "execution_count": 9,
      "outputs": [
        {
          "output_type": "execute_result",
          "data": {
            "text/plain": [
              "USA                 67\n",
              "United States       27\n",
              "Nigeria             22\n",
              "India               20\n",
              "Mumbai              19\n",
              "UK                  16\n",
              "London              16\n",
              "New York            16\n",
              "Washington, DC      15\n",
              "Canada              13\n",
              "Worldwide           12\n",
              "Washington, D.C.     9\n",
              "Chicago, IL          9\n",
              "Australia            9\n",
              "Indonesia            8\n",
              "Name: location, dtype: int64"
            ]
          },
          "metadata": {},
          "execution_count": 9
        }
      ]
    },
    {
      "cell_type": "code",
      "source": [
        "not_disaster_locations = train_data[train_data['target']==0]['location'].value_counts()[:15]\n",
        "not_disaster_locations"
      ],
      "metadata": {
        "colab": {
          "base_uri": "https://localhost:8080/"
        },
        "id": "nRIH_aUaU4WI",
        "outputId": "068fe93b-b649-47b5-96a7-8e7d3cc80487"
      },
      "execution_count": 10,
      "outputs": [
        {
          "output_type": "execute_result",
          "data": {
            "text/plain": [
              "New York           55\n",
              "USA                37\n",
              "London             29\n",
              "United States      23\n",
              "Los Angeles, CA    18\n",
              "Canada             16\n",
              "Kenya              15\n",
              "Everywhere         12\n",
              "Florida            11\n",
              "UK                 11\n",
              "California         10\n",
              "NYC                10\n",
              "United Kingdom     10\n",
              "ss                  9\n",
              "London, England     9\n",
              "Name: location, dtype: int64"
            ]
          },
          "metadata": {},
          "execution_count": 10
        }
      ]
    },
    {
      "cell_type": "code",
      "source": [
        "plt.figure(figsize=(25,10))\n",
        "\n",
        "plt.subplot(2,1,1)\n",
        "sns.barplot(disaster_locations.index,disaster_locations.values)\n",
        "\n",
        "plt.subplot(2,1,2)\n",
        "sns.barplot(not_disaster_locations.index,not_disaster_locations.values)\n"
      ],
      "metadata": {
        "colab": {
          "base_uri": "https://localhost:8080/",
          "height": 680
        },
        "id": "rfI-It4LWEpR",
        "outputId": "97409c4a-f76d-4645-b40b-e120945dca2e"
      },
      "execution_count": 11,
      "outputs": [
        {
          "output_type": "stream",
          "name": "stderr",
          "text": [
            "/usr/local/lib/python3.7/dist-packages/seaborn/_decorators.py:43: FutureWarning: Pass the following variables as keyword args: x, y. From version 0.12, the only valid positional argument will be `data`, and passing other arguments without an explicit keyword will result in an error or misinterpretation.\n",
            "  FutureWarning\n",
            "/usr/local/lib/python3.7/dist-packages/seaborn/_decorators.py:43: FutureWarning: Pass the following variables as keyword args: x, y. From version 0.12, the only valid positional argument will be `data`, and passing other arguments without an explicit keyword will result in an error or misinterpretation.\n",
            "  FutureWarning\n"
          ]
        },
        {
          "output_type": "execute_result",
          "data": {
            "text/plain": [
              "<matplotlib.axes._subplots.AxesSubplot at 0x7f1e9995fd90>"
            ]
          },
          "metadata": {},
          "execution_count": 11
        },
        {
          "output_type": "display_data",
          "data": {
            "text/plain": [
              "<Figure size 1800x720 with 2 Axes>"
            ],
            "image/png": "[encoded data removed]"
          },
          "metadata": {
            "needs_background": "light"
          }
        }
      ]
    },
    {
      "cell_type": "markdown",
      "source": [
        "#6) Get the top 15 keyword in the data (Disaster & Not Disaster)"
      ],
      "metadata": {
        "id": "P8MPLeBMcFe2"
      }
    },
    {
      "cell_type": "code",
      "source": [
        "disaster_keywords = train_data[train_data['target']==1]['keyword'].value_counts()[:15]\n",
        "disaster_keywords"
      ],
      "metadata": {
        "colab": {
          "base_uri": "https://localhost:8080/"
        },
        "id": "3wUq-qi5aG39",
        "outputId": "f5ed4f89-ac6c-4743-c047-0a93d0f3ee01"
      },
      "execution_count": 12,
      "outputs": [
        {
          "output_type": "execute_result",
          "data": {
            "text/plain": [
              "derailment             39\n",
              "wreckage               39\n",
              "outbreak               39\n",
              "debris                 37\n",
              "oil%20spill            37\n",
              "typhoon                37\n",
              "evacuated              32\n",
              "suicide%20bombing      32\n",
              "rescuers               32\n",
              "suicide%20bomb         32\n",
              "nuclear%20disaster     31\n",
              "razed                  31\n",
              "suicide%20bomber       30\n",
              "earthquake             30\n",
              "airplane%20accident    30\n",
              "Name: keyword, dtype: int64"
            ]
          },
          "metadata": {},
          "execution_count": 12
        }
      ]
    },
    {
      "cell_type": "code",
      "source": [
        "not_disaster_keywords = train_data[train_data['target']==0]['keyword'].value_counts()[:15]\n",
        "not_disaster_keywords"
      ],
      "metadata": {
        "colab": {
          "base_uri": "https://localhost:8080/"
        },
        "id": "fDJnoozMYQDx",
        "outputId": "d160b503-3987-46fe-b7c6-f1ce871b44e6"
      },
      "execution_count": 13,
      "outputs": [
        {
          "output_type": "execute_result",
          "data": {
            "text/plain": [
              "body%20bags    40\n",
              "harm           37\n",
              "armageddon     37\n",
              "wrecked        36\n",
              "ruin           36\n",
              "deluge         36\n",
              "explode        35\n",
              "twister        35\n",
              "fear           35\n",
              "siren          35\n",
              "aftershock     34\n",
              "panic          34\n",
              "screaming      34\n",
              "blizzard       33\n",
              "blazing        33\n",
              "Name: keyword, dtype: int64"
            ]
          },
          "metadata": {},
          "execution_count": 13
        }
      ]
    },
    {
      "cell_type": "code",
      "source": [
        "plt.figure(figsize=(25,10))\n",
        "\n",
        "plt.subplot(2,1,1)\n",
        "sns.barplot(disaster_keywords.index,disaster_keywords.values)\n",
        "\n",
        "plt.subplot(2,1,2)\n",
        "sns.barplot(not_disaster_keywords.index,not_disaster_keywords.values)\n"
      ],
      "metadata": {
        "colab": {
          "base_uri": "https://localhost:8080/",
          "height": 676
        },
        "id": "UnhAkXJYYU_o",
        "outputId": "0fac0b46-6b53-468d-e946-be78eb0d52af"
      },
      "execution_count": 14,
      "outputs": [
        {
          "output_type": "stream",
          "name": "stderr",
          "text": [
            "/usr/local/lib/python3.7/dist-packages/seaborn/_decorators.py:43: FutureWarning: Pass the following variables as keyword args: x, y. From version 0.12, the only valid positional argument will be `data`, and passing other arguments without an explicit keyword will result in an error or misinterpretation.\n",
            "  FutureWarning\n",
            "/usr/local/lib/python3.7/dist-packages/seaborn/_decorators.py:43: FutureWarning: Pass the following variables as keyword args: x, y. From version 0.12, the only valid positional argument will be `data`, and passing other arguments without an explicit keyword will result in an error or misinterpretation.\n",
            "  FutureWarning\n"
          ]
        },
        {
          "output_type": "execute_result",
          "data": {
            "text/plain": [
              "<matplotlib.axes._subplots.AxesSubplot at 0x7f1e992d7690>"
            ]
          },
          "metadata": {},
          "execution_count": 14
        },
        {
          "output_type": "display_data",
          "data": {
            "text/plain": [
              "<Figure size 1800x720 with 2 Axes>"
            ],
            "image/png": "[encoded data removed]"
          },
          "metadata": {
            "needs_background": "light"
          }
        }
      ]
    },
    {
      "cell_type": "markdown",
      "source": [
        "#7) What are the most common words?"
      ],
      "metadata": {
        "id": "Hd6XDl7kex_-"
      }
    },
    {
      "cell_type": "markdown",
      "source": [
        "####cleaning tweets"
      ],
      "metadata": {
        "id": "WI4oDgnQf8N9"
      }
    },
    {
      "cell_type": "code",
      "source": [
        "import re\n",
        "tweets = train_data['text']\n",
        "for i in range(1,10,1):\n",
        "  print(tweets[i])"
      ],
      "metadata": {
        "colab": {
          "base_uri": "https://localhost:8080/"
        },
        "id": "9yMmJbUJfNMx",
        "outputId": "31e5bf05-b728-4e97-dc7d-8bb7528e3ee0"
      },
      "execution_count": 15,
      "outputs": [
        {
          "output_type": "stream",
          "name": "stdout",
          "text": [
            "Forest fire near La Ronge Sask. Canada\n",
            "All residents asked to 'shelter in place' are being notified by officers. No other evacuation or shelter in place orders are expected\n",
            "13,000 people receive #wildfires evacuation orders in California \n",
            "Just got sent this photo from Ruby #Alaska as smoke from #wildfires pours into a school \n",
            "#RockyFire Update => California Hwy. 20 closed in both directions due to Lake County fire - #CAfire #wildfires\n",
            "#flood #disaster Heavy rain causes flash flooding of streets in Manitou, Colorado Springs areas\n",
            "I'm on top of the hill and I can see a fire in the woods...\n",
            "There's an emergency evacuation happening now in the building across the street\n",
            "I'm afraid that the tornado is coming to our area...\n"
          ]
        }
      ]
    },
    {
      "cell_type": "code",
      "source": [
        "def removing_unicodes(word):\n",
        "  temp = word.encode(\"ascii\", \"ignore\")\n",
        "  temp = temp.decode()\n",
        "  return temp"
      ],
      "metadata": {
        "id": "LPW8L9F8BanB"
      },
      "execution_count": 16,
      "outputs": []
    },
    {
      "cell_type": "code",
      "source": [
        "def clean_texts(text):\n",
        "  text = re.sub(r'#\\w*','',text) #removing hashtags\n",
        "  text = re.sub(r'@\\w*','',text) #removing menthions\n",
        "  text = re.sub(r'https?:\\S*','',text) #removing links\n",
        "  text = re.sub(r'\\d+','',text) #removing numbers\n",
        "  text = re.sub(r'\\W+',' ',text) #removing non words like (- , :)\n",
        "  text = re.sub(r'_','',text) #removing underscore symbol\n",
        "  text = re.sub(r'^\\s','',text) #removing spaces at the begain of the sentences\n",
        "  text = re.sub(r'\\s$','',text) #removing spaces at the end of the sentences\n",
        "\n",
        "\n",
        "  return text"
      ],
      "metadata": {
        "id": "kWTxUhl5fNKY"
      },
      "execution_count": 17,
      "outputs": []
    },
    {
      "cell_type": "markdown",
      "source": [
        "###Removing unicode characters"
      ],
      "metadata": {
        "id": "NVfWsslTZpu2"
      }
    },
    {
      "cell_type": "code",
      "source": [
        "no_uni_tweets = []\n",
        "for tweet in tweets:\n",
        "  no_uni_tweets.append(removing_unicodes(tweet))"
      ],
      "metadata": {
        "id": "RRwufUADChiw"
      },
      "execution_count": 18,
      "outputs": []
    },
    {
      "cell_type": "code",
      "source": [
        "cleaned_tweets = []\n",
        "for tweet in no_uni_tweets:\n",
        "  cleaned_tweets.append(clean_texts(tweet))"
      ],
      "metadata": {
        "id": "_GUx8MgNfNCN"
      },
      "execution_count": 19,
      "outputs": []
    },
    {
      "cell_type": "code",
      "source": [
        "tweets = []\n",
        "for tweet in cleaned_tweets:\n",
        "  tweets.append(tweet.split())"
      ],
      "metadata": {
        "id": "gdrSE8Z1vrTz"
      },
      "execution_count": 20,
      "outputs": []
    },
    {
      "cell_type": "code",
      "source": [
        "words = []\n",
        "for sentence in tweets:\n",
        "  for word in sentence:\n",
        "    words.append(word)\n"
      ],
      "metadata": {
        "id": "HvkWXZZ7yXpD"
      },
      "execution_count": 21,
      "outputs": []
    },
    {
      "cell_type": "code",
      "source": [
        "from nltk.corpus import stopwords\n",
        "nltk.download('stopwords')\n",
        "stop_words = stopwords.words('english')\n",
        "\n",
        "def remove_stopwords(words):\n",
        "  non_stop_words = []\n",
        "  for word in words:\n",
        "    if word.lower() not in stop_words:\n",
        "      non_stop_words.append(word)\n",
        "  return non_stop_words"
      ],
      "metadata": {
        "id": "A9w3vCHe2WxM",
        "colab": {
          "base_uri": "https://localhost:8080/"
        },
        "outputId": "80532908-15a6-44b8-bd0c-2e46c9d2f38b"
      },
      "execution_count": 22,
      "outputs": [
        {
          "output_type": "stream",
          "name": "stdout",
          "text": [
            "[nltk_data] Downloading package stopwords to /root/nltk_data...\n",
            "[nltk_data]   Package stopwords is already up-to-date!\n"
          ]
        }
      ]
    },
    {
      "cell_type": "code",
      "source": [
        "words_without_stop_words = remove_stopwords(words)"
      ],
      "metadata": {
        "id": "EXaZngOyyy3J"
      },
      "execution_count": 23,
      "outputs": []
    },
    {
      "cell_type": "code",
      "source": [
        "from collections import Counter\n",
        "count_words = Counter(words_without_stop_words).most_common(15)\n",
        "count_words"
      ],
      "metadata": {
        "colab": {
          "base_uri": "https://localhost:8080/"
        },
        "id": "JgeoP0aNyy1E",
        "outputId": "5805fb19-1544-42a3-833a-d92649f47b3f"
      },
      "execution_count": 24,
      "outputs": [
        {
          "output_type": "execute_result",
          "data": {
            "text/plain": [
              "[('amp', 344),\n",
              " ('like', 324),\n",
              " ('via', 213),\n",
              " ('get', 184),\n",
              " ('fire', 174),\n",
              " ('people', 166),\n",
              " ('one', 158),\n",
              " ('would', 124),\n",
              " ('California', 113),\n",
              " ('got', 106),\n",
              " ('new', 106),\n",
              " ('know', 104),\n",
              " ('New', 104),\n",
              " ('video', 101),\n",
              " ('day', 100)]"
            ]
          },
          "metadata": {},
          "execution_count": 24
        }
      ]
    },
    {
      "cell_type": "code",
      "source": [
        "x = []\n",
        "y = []\n",
        "for i in range(len(count_words)):\n",
        "    x.append(count_words[i][0])\n",
        "for i in range(len(count_words)):\n",
        "    y.append(count_words[i][1])"
      ],
      "metadata": {
        "id": "W5TG1AdSH_NP"
      },
      "execution_count": 25,
      "outputs": []
    },
    {
      "cell_type": "code",
      "source": [
        "plt.figure(figsize=(25,10))\n",
        "sns.barplot(x,y)"
      ],
      "metadata": {
        "colab": {
          "base_uri": "https://localhost:8080/",
          "height": 639
        },
        "id": "pk6O_lNmexIw",
        "outputId": "8694f6d9-5ece-4e39-8cf3-7147e7cc18e9"
      },
      "execution_count": 26,
      "outputs": [
        {
          "output_type": "stream",
          "name": "stderr",
          "text": [
            "/usr/local/lib/python3.7/dist-packages/seaborn/_decorators.py:43: FutureWarning: Pass the following variables as keyword args: x, y. From version 0.12, the only valid positional argument will be `data`, and passing other arguments without an explicit keyword will result in an error or misinterpretation.\n",
            "  FutureWarning\n"
          ]
        },
        {
          "output_type": "execute_result",
          "data": {
            "text/plain": [
              "<matplotlib.axes._subplots.AxesSubplot at 0x7f1e990fb8d0>"
            ]
          },
          "metadata": {},
          "execution_count": 26
        },
        {
          "output_type": "display_data",
          "data": {
            "text/plain": [
              "<Figure size 1800x720 with 1 Axes>"
            ],
            "image/png": "[encoded data removed]"
          },
          "metadata": {
            "needs_background": "light"
          }
        }
      ]
    },
    {
      "cell_type": "markdown",
      "source": [
        "#8)What are the most common stop words?"
      ],
      "metadata": {
        "id": "Vn-47IZ4h8Cn"
      }
    },
    {
      "cell_type": "code",
      "source": [
        "def count_stop_words(words):\n",
        "  swords = []\n",
        "  for word in words:\n",
        "    if word in stop_words:\n",
        "      swords.append(word)\n",
        "  return swords"
      ],
      "metadata": {
        "id": "RHmr1ixjh0P2"
      },
      "execution_count": 27,
      "outputs": []
    },
    {
      "cell_type": "code",
      "source": [
        "stop_words_in_text = count_stop_words(words)\n",
        "count_stop_words = Counter(stop_words_in_text).most_common(15)\n",
        "count_stop_words"
      ],
      "metadata": {
        "id": "Mqm1-4Q1itpL",
        "outputId": "3e68198b-ff1e-4abe-9919-50804ff0ab42",
        "colab": {
          "base_uri": "https://localhost:8080/"
        }
      },
      "execution_count": 28,
      "outputs": [
        {
          "output_type": "execute_result",
          "data": {
            "text/plain": [
              "[('the', 2603),\n",
              " ('a', 1890),\n",
              " ('to', 1819),\n",
              " ('in', 1782),\n",
              " ('of', 1738),\n",
              " ('and', 1320),\n",
              " ('for', 829),\n",
              " ('is', 827),\n",
              " ('s', 803),\n",
              " ('on', 798),\n",
              " ('you', 749),\n",
              " ('it', 611),\n",
              " ('that', 555),\n",
              " ('my', 552),\n",
              " ('with', 518)]"
            ]
          },
          "metadata": {},
          "execution_count": 28
        }
      ]
    },
    {
      "cell_type": "code",
      "source": [
        "x = []\n",
        "y = []\n",
        "for i in range(len(count_stop_words)):\n",
        "    x.append(count_stop_words[i][0])\n",
        "for i in range(len(count_stop_words)):\n",
        "    y.append(count_stop_words[i][1])"
      ],
      "metadata": {
        "id": "38uLgJoti7tG"
      },
      "execution_count": 29,
      "outputs": []
    },
    {
      "cell_type": "code",
      "source": [
        "plt.figure(figsize=(25,10))\n",
        "sns.barplot(x,y)"
      ],
      "metadata": {
        "id": "hImtnFLijqoE",
        "outputId": "b1e6e354-ab01-4d63-988b-b18fd669fec5",
        "colab": {
          "base_uri": "https://localhost:8080/",
          "height": 637
        }
      },
      "execution_count": 30,
      "outputs": [
        {
          "output_type": "stream",
          "name": "stderr",
          "text": [
            "/usr/local/lib/python3.7/dist-packages/seaborn/_decorators.py:43: FutureWarning: Pass the following variables as keyword args: x, y. From version 0.12, the only valid positional argument will be `data`, and passing other arguments without an explicit keyword will result in an error or misinterpretation.\n",
            "  FutureWarning\n"
          ]
        },
        {
          "output_type": "execute_result",
          "data": {
            "text/plain": [
              "<matplotlib.axes._subplots.AxesSubplot at 0x7f1e981aa450>"
            ]
          },
          "metadata": {},
          "execution_count": 30
        },
        {
          "output_type": "display_data",
          "data": {
            "text/plain": [
              "<Figure size 1800x720 with 1 Axes>"
            ],
            "image/png": "[encoded data removed]"
          },
          "metadata": {
            "needs_background": "light"
          }
        }
      ]
    },
    {
      "cell_type": "markdown",
      "source": [
        "#9)Use nlp to prepare dataset [tokenization, pad sequence, etc.]"
      ],
      "metadata": {
        "id": "lOYWdktRKqn3"
      }
    },
    {
      "cell_type": "code",
      "source": [
        "keywords = np.array(train_data['keyword'])"
      ],
      "metadata": {
        "id": "jF8yugvtz4g6"
      },
      "execution_count": 31,
      "outputs": []
    },
    {
      "cell_type": "code",
      "source": [
        "disaster_keywords = []\n",
        "not_disaster_keywords = []\n",
        "\n",
        "for i in range(len(keywords)):\n",
        "  if keywords[i] is not np.nan and train_data['target'][i]==1:\n",
        "    disaster_keywords.append(keywords[i])\n",
        "\n",
        "for i in range(len(keywords)):\n",
        "  if keywords[i] is not np.nan and train_data['target'][i]==0:\n",
        "    not_disaster_keywords.append(keywords[i])\n",
        "\n",
        "disaster_keywords = disaster_keywords[:500]\n",
        "not_disaster_keywords = not_disaster_keywords[:500]"
      ],
      "metadata": {
        "id": "i5NxEUlgzVZg"
      },
      "execution_count": 32,
      "outputs": []
    },
    {
      "cell_type": "code",
      "source": [
        "additional_data = []\n",
        "additional_data_labels = []\n",
        "\n",
        "for i in range(len(disaster_keywords)):\n",
        "  additional_data.append(disaster_keywords[i])\n",
        "  additional_data_labels.append(1)\n",
        "  additional_data.append(not_disaster_keywords[i])\n",
        "  additional_data_labels.append(0)\n"
      ],
      "metadata": {
        "id": "ZPTbA8424dDL"
      },
      "execution_count": 33,
      "outputs": []
    },
    {
      "cell_type": "code",
      "source": [
        "len(tweets)"
      ],
      "metadata": {
        "id": "ck-bNOAg6Lmp",
        "outputId": "7d50cfa4-bfd4-4618-ed77-4d7e250f4219",
        "colab": {
          "base_uri": "https://localhost:8080/"
        }
      },
      "execution_count": 34,
      "outputs": [
        {
          "output_type": "execute_result",
          "data": {
            "text/plain": [
              "7613"
            ]
          },
          "metadata": {},
          "execution_count": 34
        }
      ]
    },
    {
      "cell_type": "code",
      "source": [
        "for keyword in additional_data:\n",
        "  temp =[]\n",
        "  temp.append(keyword)\n",
        "  tweets.append(temp)\n",
        "\n",
        "len(tweets)"
      ],
      "metadata": {
        "id": "Rk11bPeL5w__",
        "outputId": "209bc9b4-492d-44b7-d9a2-44e97840ef57",
        "colab": {
          "base_uri": "https://localhost:8080/"
        }
      },
      "execution_count": 35,
      "outputs": [
        {
          "output_type": "execute_result",
          "data": {
            "text/plain": [
              "8613"
            ]
          },
          "metadata": {},
          "execution_count": 35
        }
      ]
    },
    {
      "cell_type": "code",
      "source": [
        "labels = []\n",
        "for label in train_data['target']:\n",
        "  labels.append(label)"
      ],
      "metadata": {
        "id": "GvTcOWEZ6vsH"
      },
      "execution_count": 36,
      "outputs": []
    },
    {
      "cell_type": "code",
      "source": [
        "len(labels)"
      ],
      "metadata": {
        "id": "yFgEK-Ep7A4O",
        "outputId": "a0a367ee-2d09-412e-faf7-1a81fc61369b",
        "colab": {
          "base_uri": "https://localhost:8080/"
        }
      },
      "execution_count": 37,
      "outputs": [
        {
          "output_type": "execute_result",
          "data": {
            "text/plain": [
              "7613"
            ]
          },
          "metadata": {},
          "execution_count": 37
        }
      ]
    },
    {
      "cell_type": "code",
      "source": [
        "for label in additional_data_labels:\n",
        "  labels.append(label)\n",
        "len(labels)"
      ],
      "metadata": {
        "id": "OyCTVdFh6WjP",
        "outputId": "6bf50eec-5189-4d80-800d-0b66ddcfc781",
        "colab": {
          "base_uri": "https://localhost:8080/"
        }
      },
      "execution_count": 38,
      "outputs": [
        {
          "output_type": "execute_result",
          "data": {
            "text/plain": [
              "8613"
            ]
          },
          "metadata": {},
          "execution_count": 38
        }
      ]
    },
    {
      "cell_type": "code",
      "source": [
        "tweets[14000:14005]"
      ],
      "metadata": {
        "id": "BfROs1qY8Wnf",
        "outputId": "17675cc8-124d-4005-eca0-cc598a724cb3",
        "colab": {
          "base_uri": "https://localhost:8080/"
        }
      },
      "execution_count": 39,
      "outputs": [
        {
          "output_type": "execute_result",
          "data": {
            "text/plain": [
              "[]"
            ]
          },
          "metadata": {},
          "execution_count": 39
        }
      ]
    },
    {
      "cell_type": "code",
      "source": [
        "from tensorflow.keras.preprocessing.text import Tokenizer\n",
        "from tensorflow.keras.preprocessing.sequence import pad_sequences"
      ],
      "metadata": {
        "id": "1XbP3RbgjtX0"
      },
      "execution_count": 40,
      "outputs": []
    },
    {
      "cell_type": "code",
      "source": [
        "##removing stopwords from training data\n",
        "for tweet in tweets:\n",
        "  for word in tweet:\n",
        "    if word.lower() in stop_words or word in stop_words:\n",
        "      tweet.remove(word)"
      ],
      "metadata": {
        "id": "oS49-i6bSJ-5"
      },
      "execution_count": 41,
      "outputs": []
    },
    {
      "cell_type": "code",
      "source": [
        "##all lower\n",
        "Tweets = []\n",
        "for tweet in tweets:\n",
        "  tweet = [word.lower() for word in tweet ]\n",
        "  Tweets.append(tweet)"
      ],
      "metadata": {
        "id": "BVjafTM5w1Sa"
      },
      "execution_count": 42,
      "outputs": []
    },
    {
      "cell_type": "markdown",
      "source": [
        "###using Tokenizer to make all sentences as numercal value"
      ],
      "metadata": {
        "id": "uzy9K800NBAh"
      }
    },
    {
      "cell_type": "code",
      "source": [
        "tokenizer = Tokenizer()\n",
        "tokenizer.fit_on_texts(Tweets)\n",
        "sequences = tokenizer.texts_to_sequences(Tweets)\n",
        "sequences[:2]"
      ],
      "metadata": {
        "id": "hRJS0rzALIZg",
        "outputId": "7b034b3a-d590-429d-87c6-095af0208b8e",
        "colab": {
          "base_uri": "https://localhost:8080/"
        }
      },
      "execution_count": 43,
      "outputs": [
        {
          "output_type": "execute_result",
          "data": {
            "text/plain": [
              "[[4110, 1, 782, 39, 88, 2641, 4111, 42], [148, 10, 183, 725, 5945, 5946, 1285]]"
            ]
          },
          "metadata": {},
          "execution_count": 43
        }
      ]
    },
    {
      "cell_type": "markdown",
      "source": [
        "###using pad sequances to make all sentences has the same size based on the longest sentence"
      ],
      "metadata": {
        "id": "6Ku0-e9LM-2o"
      }
    },
    {
      "cell_type": "code",
      "source": [
        "padded_sequences = pad_sequences(sequences,maxlen=25)\n",
        "padded_sequences[:2]"
      ],
      "metadata": {
        "id": "goEFS5voN4_o",
        "outputId": "fc5951e5-494e-43f1-eabe-50cfcdc0e6a1",
        "colab": {
          "base_uri": "https://localhost:8080/"
        }
      },
      "execution_count": 44,
      "outputs": [
        {
          "output_type": "execute_result",
          "data": {
            "text/plain": [
              "array([[   0,    0,    0,    0,    0,    0,    0,    0,    0,    0,    0,\n",
              "           0,    0,    0,    0,    0,    0, 4110,    1,  782,   39,   88,\n",
              "        2641, 4111,   42],\n",
              "       [   0,    0,    0,    0,    0,    0,    0,    0,    0,    0,    0,\n",
              "           0,    0,    0,    0,    0,    0,    0,  148,   10,  183,  725,\n",
              "        5945, 5946, 1285]], dtype=int32)"
            ]
          },
          "metadata": {},
          "execution_count": 44
        }
      ]
    },
    {
      "cell_type": "markdown",
      "source": [
        "#10) Prepare train, test sets"
      ],
      "metadata": {
        "id": "Umpb3MEbPRRJ"
      }
    },
    {
      "cell_type": "code",
      "source": [
        "test_data = pd.read_csv('test.csv')\n",
        "test_data.head()"
      ],
      "metadata": {
        "id": "GwL-hJgoPr8p",
        "outputId": "90f49fe6-ea1c-460f-e2ce-30d102da0c3e",
        "colab": {
          "base_uri": "https://localhost:8080/",
          "height": 206
        }
      },
      "execution_count": 45,
      "outputs": [
        {
          "output_type": "execute_result",
          "data": {
            "text/plain": [
              "   id keyword location                                               text\n",
              "0   0     NaN      NaN                 Just happened a terrible car crash\n",
              "1   2     NaN      NaN  Heard about #earthquake is different cities, s...\n",
              "2   3     NaN      NaN  there is a forest fire at spot pond, geese are...\n",
              "3   9     NaN      NaN           Apocalypse lighting. #Spokane #wildfires\n",
              "4  11     NaN      NaN      Typhoon Soudelor kills 28 in China and Taiwan"
            ],
            "text/html": [
              "\n",
              "  <div id=\"df-04462c4e-6478-42d1-ba33-ac36715de173\">\n",
              "    <div class=\"colab-df-container\">\n",
              "      <div>\n",
              "<style scoped>\n",
              "    .dataframe tbody tr th:only-of-type {\n",
              "        vertical-align: middle;\n",
              "    }\n",
              "\n",
              "    .dataframe tbody tr th {\n",
              "        vertical-align: top;\n",
              "    }\n",
              "\n",
              "    .dataframe thead th {\n",
              "        text-align: right;\n",
              "    }\n",
              "</style>\n",
              "<table border=\"1\" class=\"dataframe\">\n",
              "  <thead>\n",
              "    <tr style=\"text-align: right;\">\n",
              "      <th></th>\n",
              "      <th>id</th>\n",
              "      <th>keyword</th>\n",
              "      <th>location</th>\n",
              "      <th>text</th>\n",
              "    </tr>\n",
              "  </thead>\n",
              "  <tbody>\n",
              "    <tr>\n",
              "      <th>0</th>\n",
              "      <td>0</td>\n",
              "      <td>NaN</td>\n",
              "      <td>NaN</td>\n",
              "      <td>Just happened a terrible car crash</td>\n",
              "    </tr>\n",
              "    <tr>\n",
              "      <th>1</th>\n",
              "      <td>2</td>\n",
              "      <td>NaN</td>\n",
              "      <td>NaN</td>\n",
              "      <td>Heard about #earthquake is different cities, s...</td>\n",
              "    </tr>\n",
              "    <tr>\n",
              "      <th>2</th>\n",
              "      <td>3</td>\n",
              "      <td>NaN</td>\n",
              "      <td>NaN</td>\n",
              "      <td>there is a forest fire at spot pond, geese are...</td>\n",
              "    </tr>\n",
              "    <tr>\n",
              "      <th>3</th>\n",
              "      <td>9</td>\n",
              "      <td>NaN</td>\n",
              "      <td>NaN</td>\n",
              "      <td>Apocalypse lighting. #Spokane #wildfires</td>\n",
              "    </tr>\n",
              "    <tr>\n",
              "      <th>4</th>\n",
              "      <td>11</td>\n",
              "      <td>NaN</td>\n",
              "      <td>NaN</td>\n",
              "      <td>Typhoon Soudelor kills 28 in China and Taiwan</td>\n",
              "    </tr>\n",
              "  </tbody>\n",
              "</table>\n",
              "</div>\n",
              "      <button class=\"colab-df-convert\" onclick=\"convertToInteractive('df-04462c4e-6478-42d1-ba33-ac36715de173')\"\n",
              "              title=\"Convert this dataframe to an interactive table.\"\n",
              "              style=\"display:none;\">\n",
              "        \n",
              "  <svg xmlns=\"http://www.w3.org/2000/svg\" height=\"24px\"viewBox=\"0 0 24 24\"\n",
              "       width=\"24px\">\n",
              "    <path d=\"M0 0h24v24H0V0z\" fill=\"none\"/>\n",
              "    <path d=\"M18.56 5.44l.94 2.06.94-2.06 2.06-.94-2.06-.94-.94-2.06-.94 2.06-2.06.94zm-11 1L8.5 8.5l.94-2.06 2.06-.94-2.06-.94L8.5 2.5l-.94 2.06-2.06.94zm10 10l.94 2.06.94-2.06 2.06-.94-2.06-.94-.94-2.06-.94 2.06-2.06.94z\"/><path d=\"M17.41 7.96l-1.37-1.37c-.4-.4-.92-.59-1.43-.59-.52 0-1.04.2-1.43.59L10.3 9.45l-7.72 7.72c-.78.78-.78 2.05 0 2.83L4 21.41c.39.39.9.59 1.41.59.51 0 1.02-.2 1.41-.59l7.78-7.78 2.81-2.81c.8-.78.8-2.07 0-2.86zM5.41 20L4 18.59l7.72-7.72 1.47 1.35L5.41 20z\"/>\n",
              "  </svg>\n",
              "      </button>\n",
              "      \n",
              "  <style>\n",
              "    .colab-df-container {\n",
              "      display:flex;\n",
              "      flex-wrap:wrap;\n",
              "      gap: 12px;\n",
              "    }\n",
              "\n",
              "    .colab-df-convert {\n",
              "      background-color: #E8F0FE;\n",
              "      border: none;\n",
              "      border-radius: 50%;\n",
              "      cursor: pointer;\n",
              "      display: none;\n",
              "      fill: #1967D2;\n",
              "      height: 32px;\n",
              "      padding: 0 0 0 0;\n",
              "      width: 32px;\n",
              "    }\n",
              "\n",
              "    .colab-df-convert:hover {\n",
              "      background-color: #E2EBFA;\n",
              "      box-shadow: 0px 1px 2px rgba(60, 64, 67, 0.3), 0px 1px 3px 1px rgba(60, 64, 67, 0.15);\n",
              "      fill: #174EA6;\n",
              "    }\n",
              "\n",
              "    [theme=dark] .colab-df-convert {\n",
              "      background-color: #3B4455;\n",
              "      fill: #D2E3FC;\n",
              "    }\n",
              "\n",
              "    [theme=dark] .colab-df-convert:hover {\n",
              "      background-color: #434B5C;\n",
              "      box-shadow: 0px 1px 3px 1px rgba(0, 0, 0, 0.15);\n",
              "      filter: drop-shadow(0px 1px 2px rgba(0, 0, 0, 0.3));\n",
              "      fill: #FFFFFF;\n",
              "    }\n",
              "  </style>\n",
              "\n",
              "      <script>\n",
              "        const buttonEl =\n",
              "          document.querySelector('#df-04462c4e-6478-42d1-ba33-ac36715de173 button.colab-df-convert');\n",
              "        buttonEl.style.display =\n",
              "          google.colab.kernel.accessAllowed ? 'block' : 'none';\n",
              "\n",
              "        async function convertToInteractive(key) {\n",
              "          const element = document.querySelector('#df-04462c4e-6478-42d1-ba33-ac36715de173');\n",
              "          const dataTable =\n",
              "            await google.colab.kernel.invokeFunction('convertToInteractive',\n",
              "                                                     [key], {});\n",
              "          if (!dataTable) return;\n",
              "\n",
              "          const docLinkHtml = 'Like what you see? Visit the ' +\n",
              "            '<a target=\"_blank\" href=https://colab.research.google.com/notebooks/data_table.ipynb>data table notebook</a>'\n",
              "            + ' to learn more about interactive tables.';\n",
              "          element.innerHTML = '';\n",
              "          dataTable['output_type'] = 'display_data';\n",
              "          await google.colab.output.renderOutput(dataTable, element);\n",
              "          const docLink = document.createElement('div');\n",
              "          docLink.innerHTML = docLinkHtml;\n",
              "          element.appendChild(docLink);\n",
              "        }\n",
              "      </script>\n",
              "    </div>\n",
              "  </div>\n",
              "  "
            ]
          },
          "metadata": {},
          "execution_count": 45
        }
      ]
    },
    {
      "cell_type": "code",
      "source": [
        "text = test_data['text']"
      ],
      "metadata": {
        "id": "BYgpAg3VQb9L"
      },
      "execution_count": 46,
      "outputs": []
    },
    {
      "cell_type": "code",
      "source": [
        "##removing unicodes characters\n",
        "no_uni_tweets_test = []\n",
        "for tweet in text:\n",
        "  no_uni_tweets_test.append(removing_unicodes(tweet))"
      ],
      "metadata": {
        "id": "4PiidQL2P0Zn"
      },
      "execution_count": 47,
      "outputs": []
    },
    {
      "cell_type": "code",
      "source": [
        "##Cleaning\n",
        "cleaned_tweets_test = []\n",
        "for tweet in no_uni_tweets_test:\n",
        "  cleaned_tweets_test.append(clean_texts(tweet))"
      ],
      "metadata": {
        "id": "IBRHHStDQepI"
      },
      "execution_count": 48,
      "outputs": []
    },
    {
      "cell_type": "code",
      "source": [
        "##Split all tweets\n",
        "tweets_test = []\n",
        "for tweet in cleaned_tweets_test:\n",
        "  tweets_test.append(tweet.split())"
      ],
      "metadata": {
        "id": "RFPmzU4PQvRR"
      },
      "execution_count": 49,
      "outputs": []
    },
    {
      "cell_type": "code",
      "source": [
        "##removing stopwords from test data\n",
        "for tweet in tweets_test:\n",
        "  for word in tweet:\n",
        "    if word.lower() in stop_words or word in stop_words:\n",
        "      tweet.remove(word)"
      ],
      "metadata": {
        "id": "T4jo-0XOV_vo"
      },
      "execution_count": 50,
      "outputs": []
    },
    {
      "cell_type": "code",
      "source": [
        "##all lower\n",
        "Tweets_test = []\n",
        "for tweet in tweets_test:\n",
        "  tweet = [word.lower() for word in tweet ]\n",
        "  Tweets_test.append(tweet)\n"
      ],
      "metadata": {
        "id": "if-S0wuAyAoq"
      },
      "execution_count": 51,
      "outputs": []
    },
    {
      "cell_type": "code",
      "source": [
        "tokenizer_test = Tokenizer()\n",
        "tokenizer_test.fit_on_texts(Tweets_test)\n",
        "sequences_test = tokenizer_test.texts_to_sequences(Tweets_test)\n",
        "sequences_test[:2]"
      ],
      "metadata": {
        "id": "AD2f538qcbLq",
        "outputId": "de71b4a9-bfc9-445d-adc2-4fab253e97ae",
        "colab": {
          "base_uri": "https://localhost:8080/"
        }
      },
      "execution_count": 52,
      "outputs": [
        {
          "output_type": "execute_result",
          "data": {
            "text/plain": [
              "[[500, 897, 78, 53], [211, 14, 1749, 1013, 658, 816, 358]]"
            ]
          },
          "metadata": {},
          "execution_count": 52
        }
      ]
    },
    {
      "cell_type": "code",
      "source": [
        "padded_sequences_test = pad_sequences(sequences_test,maxlen=25)\n",
        "padded_sequences_test[:2]"
      ],
      "metadata": {
        "id": "uKJGXz1vcm4E",
        "outputId": "28efaa79-048f-47c6-9ea2-89de6d36624d",
        "colab": {
          "base_uri": "https://localhost:8080/"
        }
      },
      "execution_count": 53,
      "outputs": [
        {
          "output_type": "execute_result",
          "data": {
            "text/plain": [
              "array([[   0,    0,    0,    0,    0,    0,    0,    0,    0,    0,    0,\n",
              "           0,    0,    0,    0,    0,    0,    0,    0,    0,    0,  500,\n",
              "         897,   78,   53],\n",
              "       [   0,    0,    0,    0,    0,    0,    0,    0,    0,    0,    0,\n",
              "           0,    0,    0,    0,    0,    0,    0,  211,   14, 1749, 1013,\n",
              "         658,  816,  358]], dtype=int32)"
            ]
          },
          "metadata": {},
          "execution_count": 53
        }
      ]
    },
    {
      "cell_type": "code",
      "source": [
        "train = padded_sequences\n",
        "test = padded_sequences_test"
      ],
      "metadata": {
        "id": "YH6rLGbAXZyY"
      },
      "execution_count": 54,
      "outputs": []
    },
    {
      "cell_type": "code",
      "source": [
        "X_train = np.array(train)\n",
        "y_train = np.array(labels)\n",
        "y_train = y_train.reshape(-1,1)"
      ],
      "metadata": {
        "id": "2-iEDs2jdRkD"
      },
      "execution_count": 55,
      "outputs": []
    },
    {
      "cell_type": "code",
      "source": [
        "y_train.shape"
      ],
      "metadata": {
        "id": "6sO4mct8vF6p",
        "outputId": "2c11256d-7344-470a-942a-1d3e2879fedc",
        "colab": {
          "base_uri": "https://localhost:8080/"
        }
      },
      "execution_count": 56,
      "outputs": [
        {
          "output_type": "execute_result",
          "data": {
            "text/plain": [
              "(8613, 1)"
            ]
          },
          "metadata": {},
          "execution_count": 56
        }
      ]
    },
    {
      "cell_type": "code",
      "source": [
        "#vocab size\n",
        "vocab_size = len(tokenizer.word_index)\n",
        "vocab_size"
      ],
      "metadata": {
        "id": "necuZaEPhfic",
        "outputId": "47d3a5c2-86e8-4199-dcfc-43fc32e7d329",
        "colab": {
          "base_uri": "https://localhost:8080/"
        }
      },
      "execution_count": 57,
      "outputs": [
        {
          "output_type": "execute_result",
          "data": {
            "text/plain": [
              "12967"
            ]
          },
          "metadata": {},
          "execution_count": 57
        }
      ]
    },
    {
      "cell_type": "code",
      "source": [
        "##split to train and validation to evaluate the model\n",
        "from sklearn.model_selection import train_test_split\n",
        "X_train, X_val, y_train, y_val = train_test_split(X_train,y_train,test_size=0.25,random_state=42)"
      ],
      "metadata": {
        "id": "QSnN5zKieGLZ"
      },
      "execution_count": 58,
      "outputs": []
    },
    {
      "cell_type": "markdown",
      "source": [
        "#11)Train your LSTM structure"
      ],
      "metadata": {
        "id": "IOmyiRiie_GW"
      }
    },
    {
      "cell_type": "code",
      "source": [
        "from tensorflow.keras.models import Sequential\n",
        "from tensorflow.keras.layers import LSTM,Dense,Embedding,Dropout\n",
        "import tensorflow as tf\n",
        "model = Sequential()\n",
        "model.add(Embedding(vocab_size+1,12,input_length=25))\n",
        "\n",
        "model.add(LSTM(256))\n",
        "\n",
        "model.add(Dense(128,activation='relu'))\n",
        "model.add(Dense(32,activation='relu'))\n",
        "model.add(Dense(128,activation='relu'))\n",
        "\n",
        "\n",
        "model.add(Dense(1,activation='sigmoid'))\n",
        "model.compile(loss=\"binary_crossentropy\",optimizer='RMSprop',metrics=['accuracy'])\n",
        "model.summary()"
      ],
      "metadata": {
        "id": "5Et1iThhfCnk",
        "outputId": "1adcc34d-6864-4db6-f3ce-6a07e31cd2fd",
        "colab": {
          "base_uri": "https://localhost:8080/"
        }
      },
      "execution_count": 59,
      "outputs": [
        {
          "output_type": "stream",
          "name": "stdout",
          "text": [
            "Model: \"sequential\"\n",
            "_________________________________________________________________\n",
            " Layer (type)                Output Shape              Param #   \n",
            "=================================================================\n",
            " embedding (Embedding)       (None, 25, 12)            155616    \n",
            "                                                                 \n",
            " lstm (LSTM)                 (None, 256)               275456    \n",
            "                                                                 \n",
            " dense (Dense)               (None, 128)               32896     \n",
            "                                                                 \n",
            " dense_1 (Dense)             (None, 32)                4128      \n",
            "                                                                 \n",
            " dense_2 (Dense)             (None, 128)               4224      \n",
            "                                                                 \n",
            " dense_3 (Dense)             (None, 1)                 129       \n",
            "                                                                 \n",
            "=================================================================\n",
            "Total params: 472,449\n",
            "Trainable params: 472,449\n",
            "Non-trainable params: 0\n",
            "_________________________________________________________________\n"
          ]
        }
      ]
    },
    {
      "cell_type": "code",
      "source": [
        "history = model.fit(X_train,y_train,epochs=5,validation_data=(X_val,y_val),verbose=1)"
      ],
      "metadata": {
        "id": "k5bCYLlyiUkA",
        "outputId": "70659b8f-1750-471a-c8b9-aa478c154aff",
        "colab": {
          "base_uri": "https://localhost:8080/"
        }
      },
      "execution_count": 60,
      "outputs": [
        {
          "output_type": "stream",
          "name": "stdout",
          "text": [
            "Epoch 1/5\n",
            "202/202 [==============================] - 35s 134ms/step - loss: 0.6072 - accuracy: 0.6651 - val_loss: 0.5002 - val_accuracy: 0.7688\n",
            "Epoch 2/5\n",
            "202/202 [==============================] - 21s 102ms/step - loss: 0.4196 - accuracy: 0.8153 - val_loss: 0.4958 - val_accuracy: 0.7507\n",
            "Epoch 3/5\n",
            "202/202 [==============================] - 22s 110ms/step - loss: 0.3594 - accuracy: 0.8466 - val_loss: 0.4710 - val_accuracy: 0.7795\n",
            "Epoch 4/5\n",
            "202/202 [==============================] - 21s 103ms/step - loss: 0.3137 - accuracy: 0.8747 - val_loss: 0.5286 - val_accuracy: 0.7790\n",
            "Epoch 5/5\n",
            "202/202 [==============================] - 21s 104ms/step - loss: 0.2808 - accuracy: 0.8933 - val_loss: 0.5408 - val_accuracy: 0.7813\n"
          ]
        }
      ]
    },
    {
      "cell_type": "markdown",
      "source": [
        "#12) Evaluate the model and make predictions"
      ],
      "metadata": {
        "id": "4ZA48u9wCYwc"
      }
    },
    {
      "cell_type": "code",
      "source": [
        "predictions = model.predict(test)"
      ],
      "metadata": {
        "id": "9HzyUqCXEzt9"
      },
      "execution_count": 61,
      "outputs": []
    },
    {
      "cell_type": "code",
      "source": [
        "Output = []\n",
        "for pred in predictions:\n",
        "  if pred >= 0.5:\n",
        "    Output.append(1)\n",
        "  else:\n",
        "    Output.append(0)"
      ],
      "metadata": {
        "id": "qHfNZYQ3Kev9"
      },
      "execution_count": 66,
      "outputs": []
    },
    {
      "cell_type": "code",
      "source": [
        "test_predictions = {'Texts':test_data['text'],'Predicitions':Output}\n",
        "results = pd.DataFrame(test_predictions) \n",
        "results"
      ],
      "metadata": {
        "id": "yDKe82KWLAZ9",
        "outputId": "4056fccc-9b5a-41a9-e7f0-2528cb05e56a",
        "colab": {
          "base_uri": "https://localhost:8080/",
          "height": 423
        }
      },
      "execution_count": 68,
      "outputs": [
        {
          "output_type": "execute_result",
          "data": {
            "text/plain": [
              "                                                  Texts  Predicitions\n",
              "0                    Just happened a terrible car crash             1\n",
              "1     Heard about #earthquake is different cities, s...             0\n",
              "2     there is a forest fire at spot pond, geese are...             1\n",
              "3              Apocalypse lighting. #Spokane #wildfires             0\n",
              "4         Typhoon Soudelor kills 28 in China and Taiwan             0\n",
              "...                                                 ...           ...\n",
              "3258  EARTHQUAKE SAFETY LOS ANGELES ÛÒ SAFETY FASTE...             1\n",
              "3259  Storm in RI worse than last hurricane. My city...             1\n",
              "3260  Green Line derailment in Chicago http://t.co/U...             1\n",
              "3261  MEG issues Hazardous Weather Outlook (HWO) htt...             1\n",
              "3262  #CityofCalgary has activated its Municipal Eme...             1\n",
              "\n",
              "[3263 rows x 2 columns]"
            ],
            "text/html": [
              "\n",
              "  <div id=\"df-b2c73799-4999-4262-b0e5-e37dec655d5d\">\n",
              "    <div class=\"colab-df-container\">\n",
              "      <div>\n",
              "<style scoped>\n",
              "    .dataframe tbody tr th:only-of-type {\n",
              "        vertical-align: middle;\n",
              "    }\n",
              "\n",
              "    .dataframe tbody tr th {\n",
              "        vertical-align: top;\n",
              "    }\n",
              "\n",
              "    .dataframe thead th {\n",
              "        text-align: right;\n",
              "    }\n",
              "</style>\n",
              "<table border=\"1\" class=\"dataframe\">\n",
              "  <thead>\n",
              "    <tr style=\"text-align: right;\">\n",
              "      <th></th>\n",
              "      <th>Texts</th>\n",
              "      <th>Predicitions</th>\n",
              "    </tr>\n",
              "  </thead>\n",
              "  <tbody>\n",
              "    <tr>\n",
              "      <th>0</th>\n",
              "      <td>Just happened a terrible car crash</td>\n",
              "      <td>1</td>\n",
              "    </tr>\n",
              "    <tr>\n",
              "      <th>1</th>\n",
              "      <td>Heard about #earthquake is different cities, s...</td>\n",
              "      <td>0</td>\n",
              "    </tr>\n",
              "    <tr>\n",
              "      <th>2</th>\n",
              "      <td>there is a forest fire at spot pond, geese are...</td>\n",
              "      <td>1</td>\n",
              "    </tr>\n",
              "    <tr>\n",
              "      <th>3</th>\n",
              "      <td>Apocalypse lighting. #Spokane #wildfires</td>\n",
              "      <td>0</td>\n",
              "    </tr>\n",
              "    <tr>\n",
              "      <th>4</th>\n",
              "      <td>Typhoon Soudelor kills 28 in China and Taiwan</td>\n",
              "      <td>0</td>\n",
              "    </tr>\n",
              "    <tr>\n",
              "      <th>...</th>\n",
              "      <td>...</td>\n",
              "      <td>...</td>\n",
              "    </tr>\n",
              "    <tr>\n",
              "      <th>3258</th>\n",
              "      <td>EARTHQUAKE SAFETY LOS ANGELES ÛÒ SAFETY FASTE...</td>\n",
              "      <td>1</td>\n",
              "    </tr>\n",
              "    <tr>\n",
              "      <th>3259</th>\n",
              "      <td>Storm in RI worse than last hurricane. My city...</td>\n",
              "      <td>1</td>\n",
              "    </tr>\n",
              "    <tr>\n",
              "      <th>3260</th>\n",
              "      <td>Green Line derailment in Chicago http://t.co/U...</td>\n",
              "      <td>1</td>\n",
              "    </tr>\n",
              "    <tr>\n",
              "      <th>3261</th>\n",
              "      <td>MEG issues Hazardous Weather Outlook (HWO) htt...</td>\n",
              "      <td>1</td>\n",
              "    </tr>\n",
              "    <tr>\n",
              "      <th>3262</th>\n",
              "      <td>#CityofCalgary has activated its Municipal Eme...</td>\n",
              "      <td>1</td>\n",
              "    </tr>\n",
              "  </tbody>\n",
              "</table>\n",
              "<p>3263 rows × 2 columns</p>\n",
              "</div>\n",
              "      <button class=\"colab-df-convert\" onclick=\"convertToInteractive('df-b2c73799-4999-4262-b0e5-e37dec655d5d')\"\n",
              "              title=\"Convert this dataframe to an interactive table.\"\n",
              "              style=\"display:none;\">\n",
              "        \n",
              "  <svg xmlns=\"http://www.w3.org/2000/svg\" height=\"24px\"viewBox=\"0 0 24 24\"\n",
              "       width=\"24px\">\n",
              "    <path d=\"M0 0h24v24H0V0z\" fill=\"none\"/>\n",
              "    <path d=\"M18.56 5.44l.94 2.06.94-2.06 2.06-.94-2.06-.94-.94-2.06-.94 2.06-2.06.94zm-11 1L8.5 8.5l.94-2.06 2.06-.94-2.06-.94L8.5 2.5l-.94 2.06-2.06.94zm10 10l.94 2.06.94-2.06 2.06-.94-2.06-.94-.94-2.06-.94 2.06-2.06.94z\"/><path d=\"M17.41 7.96l-1.37-1.37c-.4-.4-.92-.59-1.43-.59-.52 0-1.04.2-1.43.59L10.3 9.45l-7.72 7.72c-.78.78-.78 2.05 0 2.83L4 21.41c.39.39.9.59 1.41.59.51 0 1.02-.2 1.41-.59l7.78-7.78 2.81-2.81c.8-.78.8-2.07 0-2.86zM5.41 20L4 18.59l7.72-7.72 1.47 1.35L5.41 20z\"/>\n",
              "  </svg>\n",
              "      </button>\n",
              "      \n",
              "  <style>\n",
              "    .colab-df-container {\n",
              "      display:flex;\n",
              "      flex-wrap:wrap;\n",
              "      gap: 12px;\n",
              "    }\n",
              "\n",
              "    .colab-df-convert {\n",
              "      background-color: #E8F0FE;\n",
              "      border: none;\n",
              "      border-radius: 50%;\n",
              "      cursor: pointer;\n",
              "      display: none;\n",
              "      fill: #1967D2;\n",
              "      height: 32px;\n",
              "      padding: 0 0 0 0;\n",
              "      width: 32px;\n",
              "    }\n",
              "\n",
              "    .colab-df-convert:hover {\n",
              "      background-color: #E2EBFA;\n",
              "      box-shadow: 0px 1px 2px rgba(60, 64, 67, 0.3), 0px 1px 3px 1px rgba(60, 64, 67, 0.15);\n",
              "      fill: #174EA6;\n",
              "    }\n",
              "\n",
              "    [theme=dark] .colab-df-convert {\n",
              "      background-color: #3B4455;\n",
              "      fill: #D2E3FC;\n",
              "    }\n",
              "\n",
              "    [theme=dark] .colab-df-convert:hover {\n",
              "      background-color: #434B5C;\n",
              "      box-shadow: 0px 1px 3px 1px rgba(0, 0, 0, 0.15);\n",
              "      filter: drop-shadow(0px 1px 2px rgba(0, 0, 0, 0.3));\n",
              "      fill: #FFFFFF;\n",
              "    }\n",
              "  </style>\n",
              "\n",
              "      <script>\n",
              "        const buttonEl =\n",
              "          document.querySelector('#df-b2c73799-4999-4262-b0e5-e37dec655d5d button.colab-df-convert');\n",
              "        buttonEl.style.display =\n",
              "          google.colab.kernel.accessAllowed ? 'block' : 'none';\n",
              "\n",
              "        async function convertToInteractive(key) {\n",
              "          const element = document.querySelector('#df-b2c73799-4999-4262-b0e5-e37dec655d5d');\n",
              "          const dataTable =\n",
              "            await google.colab.kernel.invokeFunction('convertToInteractive',\n",
              "                                                     [key], {});\n",
              "          if (!dataTable) return;\n",
              "\n",
              "          const docLinkHtml = 'Like what you see? Visit the ' +\n",
              "            '<a target=\"_blank\" href=https://colab.research.google.com/notebooks/data_table.ipynb>data table notebook</a>'\n",
              "            + ' to learn more about interactive tables.';\n",
              "          element.innerHTML = '';\n",
              "          dataTable['output_type'] = 'display_data';\n",
              "          await google.colab.output.renderOutput(dataTable, element);\n",
              "          const docLink = document.createElement('div');\n",
              "          docLink.innerHTML = docLinkHtml;\n",
              "          element.appendChild(docLink);\n",
              "        }\n",
              "      </script>\n",
              "    </div>\n",
              "  </div>\n",
              "  "
            ]
          },
          "metadata": {},
          "execution_count": 68
        }
      ]
    },
    {
      "cell_type": "markdown",
      "source": [
        "#13)Evaluate the results with charts of acc and loss"
      ],
      "metadata": {
        "id": "z4fZlws_EKgD"
      }
    },
    {
      "cell_type": "code",
      "source": [
        "plt.plot(history.history['loss'])\n",
        "plt.plot(history.history['val_loss'])\n",
        "plt.legend(['training_Loss','Val_Loss'])\n",
        "plt.title('Loss')\n",
        "plt.xlabel('epochs')"
      ],
      "metadata": {
        "id": "yxhbwJXn20Y0",
        "outputId": "ab75d414-0c4c-46ee-aff0-99d17edd5cee",
        "colab": {
          "base_uri": "https://localhost:8080/",
          "height": 313
        }
      },
      "execution_count": 64,
      "outputs": [
        {
          "output_type": "execute_result",
          "data": {
            "text/plain": [
              "Text(0.5, 0, 'epochs')"
            ]
          },
          "metadata": {},
          "execution_count": 64
        },
        {
          "output_type": "display_data",
          "data": {
            "text/plain": [
              "<Figure size 432x288 with 1 Axes>"
            ],
            "image/png": "[encoded data removed]"
          },
          "metadata": {
            "needs_background": "light"
          }
        }
      ]
    },
    {
      "cell_type": "code",
      "source": [
        "plt.plot(history.history['accuracy'])\n",
        "plt.plot(history.history['val_accuracy'])\n",
        "plt.legend(['training_accuracy','Val_accuracy'])\n",
        "plt.title('accuracy')\n",
        "plt.xlabel('epochs')"
      ],
      "metadata": {
        "id": "-E33EzSh27WC",
        "outputId": "1ba5b4d2-5603-43db-bf69-2238dd8ee1ba",
        "colab": {
          "base_uri": "https://localhost:8080/",
          "height": 313
        }
      },
      "execution_count": 65,
      "outputs": [
        {
          "output_type": "execute_result",
          "data": {
            "text/plain": [
              "Text(0.5, 0, 'epochs')"
            ]
          },
          "metadata": {},
          "execution_count": 65
        },
        {
          "output_type": "display_data",
          "data": {
            "text/plain": [
              "<Figure size 432x288 with 1 Axes>"
            ],
            "image/png": "[encoded data removed]"
          },
          "metadata": {
            "needs_background": "light"
          }
        }
      ]
    }
  ]
}